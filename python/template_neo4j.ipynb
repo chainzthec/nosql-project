{
 "cells": [
  {
   "cell_type": "code",
   "execution_count": 1,
   "metadata": {},
   "outputs": [],
   "source": [
    "import tweepy\n",
    "from py2neo import Graph\n",
    "import re"
   ]
  },
  {
   "cell_type": "markdown",
   "metadata": {},
   "source": [
    "# Neo4j"
   ]
  },
  {
   "cell_type": "markdown",
   "metadata": {},
   "source": [
    "## connexion"
   ]
  },
  {
   "cell_type": "code",
   "execution_count": 2,
   "metadata": {},
   "outputs": [
    {
     "data": {
      "text/plain": [
       "<Graph database=<Database uri='http://neo4j:7474' secure=False user_agent='py2neo/4.2.0 urllib3/1.24.2 Python/3.7.3-final-0 (linux)'> name='data'>"
      ]
     },
     "execution_count": 2,
     "metadata": {},
     "output_type": "execute_result"
    }
   ],
   "source": [
    "uri = \"http://neo4j:7474\" \n",
    "password=\"esgi_password\"\n",
    "graph = Graph(uri,password=password)\n",
    "graph"
   ]
  },
  {
   "cell_type": "markdown",
   "metadata": {},
   "source": [
    "### suppresion du travail precedent"
   ]
  },
  {
   "cell_type": "code",
   "execution_count": 13,
   "metadata": {},
   "outputs": [
    {
     "data": {
      "text/plain": [
       "<py2neo.database.Cursor at 0x7f3525577198>"
      ]
     },
     "execution_count": 13,
     "metadata": {},
     "output_type": "execute_result"
    }
   ],
   "source": [
    "graph.run(\"MATCH (n) DETACH DELETE n\")"
   ]
  },
  {
   "cell_type": "code",
   "execution_count": 14,
   "metadata": {},
   "outputs": [
    {
     "data": {
      "text/plain": [
       "[]"
      ]
     },
     "execution_count": 14,
     "metadata": {},
     "output_type": "execute_result"
    }
   ],
   "source": [
    "graph.run(\"MATCH (n) RETURN n LIMIT 25\").data()"
   ]
  },
  {
   "cell_type": "markdown",
   "metadata": {},
   "source": [
    "### creation d'un noeud"
   ]
  },
  {
   "cell_type": "code",
   "execution_count": 15,
   "metadata": {},
   "outputs": [
    {
     "data": {
      "text/plain": [
       "<py2neo.database.Cursor at 0x7f352520a898>"
      ]
     },
     "execution_count": 15,
     "metadata": {},
     "output_type": "execute_result"
    }
   ],
   "source": [
    "graph.run(\"CREATE (:USER {name:'VERLEYEN'})\")"
   ]
  },
  {
   "cell_type": "code",
   "execution_count": 16,
   "metadata": {},
   "outputs": [
    {
     "data": {
      "text/plain": [
       "[{'n': (_0:USER {name: 'VERLEYEN'})}]"
      ]
     },
     "execution_count": 16,
     "metadata": {},
     "output_type": "execute_result"
    }
   ],
   "source": [
    "graph.run(\"MATCH (n) RETURN n LIMIT 25\").data()"
   ]
  },
  {
   "cell_type": "markdown",
   "metadata": {},
   "source": [
    "# Twitter api"
   ]
  },
  {
   "cell_type": "markdown",
   "metadata": {},
   "source": [
    "### token et fonction utile"
   ]
  },
  {
   "cell_type": "code",
   "execution_count": 22,
   "metadata": {},
   "outputs": [],
   "source": [
    "consumer_key = \"aaaaaaaaaa\"\n",
    "consumer_secret = \"bbbbbbbbbb\"\n",
    "access_token = \"cccccccccccc\"\n",
    "access_token_secret = \"ddddddddddddddddddd\"\n",
    "\n",
    "# ci-dessous regex et fonctions utiles : \n",
    "UTF_CHARS = r'a-z0-9_\\u00c0-\\u00d6\\u00d8-\\u00f6\\u00f8-\\u00ff'\n",
    "TAG_EXP = r'(^|[^0-9A-Z&/]+)(#|\\uff03)([0-9A-Z_]*[A-Z_]+[%s]*)' % UTF_CHARS\n",
    "TAG_REGEX = re.compile(TAG_EXP, re.UNICODE | re.IGNORECASE)\n",
    "AT_EXP = r'(^|[^0-9A-Z&/]+)(@|\\uff03)([0-9A-Z_]*[A-Z_]+[%s]*)' % UTF_CHARS\n",
    "AT_REGEX = re.compile(AT_EXP, re.UNICODE | re.IGNORECASE)\n",
    "\n",
    "\n",
    "def find_hashtag(text):\n",
    "    return [c[2] for c in TAG_REGEX.findall(text)]\n",
    "def find_at(text):\n",
    "    return [c[2] for c in AT_REGEX.findall(text)]"
   ]
  },
  {
   "cell_type": "markdown",
   "metadata": {},
   "source": [
    "### autentification"
   ]
  },
  {
   "cell_type": "code",
   "execution_count": 23,
   "metadata": {},
   "outputs": [],
   "source": [
    "auth = tweepy.OAuthHandler(consumer_key, consumer_secret)\n",
    "auth.set_access_token(access_token, access_token_secret)\n",
    "\n",
    "api = tweepy.API(auth)"
   ]
  },
  {
   "cell_type": "code",
   "execution_count": 25,
   "metadata": {},
   "outputs": [
    {
     "name": "stdout",
     "output_type": "stream",
     "text": [
      "dataswati\n",
      "241\n"
     ]
    }
   ],
   "source": [
    "user = api.get_user('Dataswati')\n",
    "print(user.screen_name)\n",
    "print(user.followers_count)"
   ]
  },
  {
   "cell_type": "code",
   "execution_count": 26,
   "metadata": {},
   "outputs": [
    {
     "name": "stdout",
     "output_type": "stream",
     "text": [
      "2019-04-18 17:13:25\n",
      "Le Doctorat à USPC RT @douniabelghiti: La journée débute bien avec les ateliers Inspere pour les doctorants et docteurs d’ @DoctoratUSPC pour une meilleure co… False\n",
      "['douniabelghiti', 'DoctoratUSPC']\n",
      "[]\n",
      "2019-04-18 09:32:02\n",
      "BLEYER BRIGITTE RT @douniabelghiti: La journée débute bien avec les ateliers Inspere pour les doctorants et docteurs d’ @DoctoratUSPC pour une meilleure co… False\n",
      "['douniabelghiti', 'DoctoratUSPC']\n",
      "[]\n",
      "2019-04-18 08:34:23\n",
      "Louise B RT @douniabelghiti: La journée débute bien avec les ateliers Inspere pour les doctorants et docteurs d’ @DoctoratUSPC pour une meilleure co… False\n",
      "['douniabelghiti', 'DoctoratUSPC']\n",
      "[]\n",
      "2019-04-18 08:34:06\n",
      "Amine Benhenni, PhD RT @douniabelghiti: La journée débute bien avec les ateliers Inspere pour les doctorants et docteurs d’ @DoctoratUSPC pour une meilleure co… False\n",
      "['douniabelghiti', 'DoctoratUSPC']\n",
      "[]\n",
      "2019-04-18 08:33:05\n",
      "PhDTalent RT @douniabelghiti: La journée débute bien avec les ateliers Inspere pour les doctorants et docteurs d’ @DoctoratUSPC pour une meilleure co… False\n",
      "['douniabelghiti', 'DoctoratUSPC']\n",
      "[]\n",
      "2019-04-18 08:32:30\n",
      "Dounia, PhD La journée débute bien avec les ateliers Inspere pour les doctorants et docteurs d’ @DoctoratUSPC pour une meilleur… https://t.co/chPmRts91C False\n",
      "['DoctoratUSPC']\n",
      "[]\n"
     ]
    }
   ],
   "source": [
    "\n",
    "# http://docs.tweepy.org/en/v3.5.0/cursor_tutorial.html\n",
    "for tweet in tweepy.Cursor(api.search, q='Dataswati', rpp=1000).items():\n",
    "    print(tweet.created_at)\n",
    "    print(tweet.user.name,tweet.text,tweet.retweeted)\n",
    "    print((find_at(tweet.text)))\n",
    "    print((find_hashtag(tweet.text)))"
   ]
  },
  {
   "cell_type": "code",
   "execution_count": null,
   "metadata": {},
   "outputs": [],
   "source": []
  }
 ],
 "metadata": {
  "kernelspec": {
   "display_name": "Python 3",
   "language": "python",
   "name": "python3"
  },
  "language_info": {
   "codemirror_mode": {
    "name": "ipython",
    "version": 3
   },
   "file_extension": ".py",
   "mimetype": "text/x-python",
   "name": "python",
   "nbconvert_exporter": "python",
   "pygments_lexer": "ipython3",
   "version": "3.7.3"
  }
 },
 "nbformat": 4,
 "nbformat_minor": 2
}
