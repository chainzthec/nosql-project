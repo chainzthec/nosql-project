{
 "cells": [
  {
   "cell_type": "code",
   "execution_count": 339,
   "metadata": {},
   "outputs": [],
   "source": [
    "import requests\n",
    "import json\n",
    "import pprint as pprint\n",
    "from pymongo import MongoClient"
   ]
  },
  {
   "cell_type": "code",
   "execution_count": 340,
   "metadata": {},
   "outputs": [],
   "source": [
    "jsonResponse = requests.get(\"https://s3-us-west-1.amazonaws.com/riot-developer-portal/seed-data/matches1.json\").json()"
   ]
  },
  {
   "cell_type": "code",
   "execution_count": 341,
   "metadata": {
    "scrolled": true
   },
   "outputs": [],
   "source": [
    "client = MongoClient('MongoDB', 27017)\n",
    "#print(client.list_database_names())\n",
    "client.drop_database('riot')\n",
    "db = client['riot']\n",
    "matches = db['matches']"
   ]
  },
  {
   "cell_type": "code",
   "execution_count": 342,
   "metadata": {},
   "outputs": [],
   "source": [
    "for x in range(len(jsonResponse['matches'])):\n",
    "    matches.insert_one(jsonResponse['matches'][x])"
   ]
  },
  {
   "cell_type": "code",
   "execution_count": 344,
   "metadata": {},
   "outputs": [
    {
     "name": "stdout",
     "output_type": "stream",
     "text": [
      "{'_Cursor__id': None, '_Cursor__exhaust': False, '_Cursor__exhaust_mgr': None, '_Cursor__killed': True, '_Cursor__session': None, '_Cursor__explicit_session': False, '_Cursor__collection': Collection(Database(MongoClient(host=['mongodb:27017'], document_class=dict, tz_aware=False, connect=True), 'riot'), 'matches'), '_Cursor__spec': {'gameId': 2585563902}, '_Cursor__projection': {'_id': 1}, '_Cursor__skip': 0, '_Cursor__limit': 0, '_Cursor__batch_size': 0, '_Cursor__modifiers': {}, '_Cursor__ordering': None, '_Cursor__max_scan': None, '_Cursor__explain': False, '_Cursor__comment': None, '_Cursor__max_time_ms': None, '_Cursor__max_await_time_ms': None, '_Cursor__max': None, '_Cursor__min': None, '_Cursor__manipulate': True, '_Cursor__collation': None, '_Cursor__return_key': False, '_Cursor__show_record_id': False, '_Cursor__snapshot': False, '_Cursor__hint': None, '_Cursor__empty': False, '_Cursor__data': deque([]), '_Cursor__address': None, '_Cursor__retrieved': 0, '_Cursor__codec_options': CodecOptions(document_class=dict, tz_aware=False, uuid_representation=PYTHON_LEGACY, unicode_decode_error_handler='strict', tzinfo=None, type_registry=TypeRegistry(type_codecs=[], fallback_encoder=None)), '_Cursor__read_preference': None, '_Cursor__read_concern': ReadConcern(), '_Cursor__query_flags': 0}\n"
     ]
    }
   ],
   "source": [
    "print(vars(matches.find(\n",
    "    {\n",
    "       'gameId':2585563902\n",
    "    },\n",
    "    {\n",
    "        \n",
    "    }\n",
    ")))"
   ]
  },
  {
   "cell_type": "code",
   "execution_count": null,
   "metadata": {},
   "outputs": [],
   "source": []
  },
  {
   "cell_type": "code",
   "execution_count": null,
   "metadata": {},
   "outputs": [],
   "source": []
  }
 ],
 "metadata": {
  "kernelspec": {
   "display_name": "Python 3",
   "language": "python",
   "name": "python3"
  },
  "language_info": {
   "codemirror_mode": {
    "name": "ipython",
    "version": 3
   },
   "file_extension": ".py",
   "mimetype": "text/x-python",
   "name": "python",
   "nbconvert_exporter": "python",
   "pygments_lexer": "ipython3",
   "version": "3.7.3"
  }
 },
 "nbformat": 4,
 "nbformat_minor": 2
}
